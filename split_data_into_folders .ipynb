{
 "cells": [
  {
   "cell_type": "markdown",
   "id": "8f119247",
   "metadata": {},
   "source": [
    "# Split Data into folders "
   ]
  },
  {
   "cell_type": "code",
   "execution_count": 1,
   "id": "2b4d23b6",
   "metadata": {},
   "outputs": [],
   "source": [
    "import glob\n",
    "import xml.etree.ElementTree as ET\n",
    "from tqdm import tqdm\n",
    "import os\n",
    "import shutil\n",
    "import sys"
   ]
  },
  {
   "cell_type": "markdown",
   "id": "c6b8219e",
   "metadata": {},
   "source": [
    "<b>Initial dir structure</b> \n",
    "\n",
    "    \\DATA\n",
    "    ├───images\n",
    "    └───labels\n",
    "   \n",
    "- images folder contains all samples\n",
    "- labels contains mapping of images to labels (in our case it's in XML so ,we will parse it)"
   ]
  },
  {
   "cell_type": "code",
   "execution_count": 3,
   "id": "8e4e3169",
   "metadata": {},
   "outputs": [],
   "source": [
    "# variables to store paths\n",
    "path = \"./data\"\n",
    "label_path = path + \"/labels/*.xml\"        # Label path\n",
    "image_path = path + \"/images/*.tif\"        # Image Path\n",
    "\n",
    "# we use glob to extract all paths\n",
    "label_paths = glob.glob(label_path)\n",
    "image_paths = glob.glob(image_path)        # If in case of CSV open it read_csv and convert it into a list"
   ]
  },
  {
   "cell_type": "code",
   "execution_count": 4,
   "id": "2ee7eab2",
   "metadata": {},
   "outputs": [
    {
     "name": "stderr",
     "output_type": "stream",
     "text": [
      "100%|██████████████████████████████████████████████████████████████████████████| 65918/65918 [00:09<00:00, 7091.02it/s]\n"
     ]
    }
   ],
   "source": [
    "# This block is specific to our case where we extract image labels from XML file and store it in a list\n",
    "\n",
    "# function to read labels from xml file which is specfic to this case \n",
    "def get_label(file):\n",
    "    with open(file, 'r') as file:\n",
    "        tree = ET.parse(file)\n",
    "        root = tree.getroot()\n",
    "        return int(root[3][0].text)\n",
    "    \n",
    "# label path to actual labels\n",
    "labels = [get_label(i) for i in tqdm(label_paths)]\n",
    "total_len = len(labels)"
   ]
  },
  {
   "cell_type": "code",
   "execution_count": 5,
   "id": "181125a9",
   "metadata": {
    "scrolled": true
   },
   "outputs": [
    {
     "name": "stderr",
     "output_type": "stream",
     "text": [
      "100%|███████████████████████████████████████████████████████████████████████████| 65918/65918 [05:43<00:00, 191.78it/s]\n"
     ]
    }
   ],
   "source": [
    "# logic to split into class folders\n",
    "\n",
    "split_dir = \"./samples\" # FLoder name \n",
    "if not os.path.exists(split_dir): # Create a new folder\n",
    "    os.mkdir(split_dir)\n",
    "\n",
    "for image, label in tqdm(zip(image_paths,labels),total=total_len):\n",
    "    if not os.path.exists(split_dir + '/' + str(label)): # Create label folder for the first time\n",
    "        os.mkdir(split_dir + '/' + str(label))\n",
    "    # copy from images to label folder \n",
    "    src_path = image\n",
    "    dst_path = split_dir + '/' + str(label) +  image[13:]\n",
    "    \n",
    "    try:\n",
    "        shutil.copy(src_path, dst_path)\n",
    "    except IOError as e:\n",
    "        print('Unable to copy file {} to {}'\n",
    "              .format(src_path, dst_path))\n",
    "    except:\n",
    "        print('When try copy file {} to {}, unexpected error: {}'\n",
    "              .format(src_path, dst_path, sys.exc_info()))"
   ]
  },
  {
   "cell_type": "markdown",
   "id": "2ad9ba72",
   "metadata": {},
   "source": [
    "<b> Result </b>\n",
    "\n",
    "        \\SAMPLES\n",
    "        ├───1\n",
    "        ├───2\n",
    "        ├───3\n",
    "        ├───4\n",
    "        ├───5\n",
    "        └───6\n",
    "        \n",
    "Now we will convert this into train,test and validation folder by using split-folders lib"
   ]
  },
  {
   "cell_type": "code",
   "execution_count": null,
   "id": "44a604ba",
   "metadata": {},
   "outputs": [],
   "source": [
    "!pip install split-folders"
   ]
  },
  {
   "cell_type": "code",
   "execution_count": null,
   "id": "7c1ceaa5",
   "metadata": {},
   "outputs": [],
   "source": [
    "import splitfolders  \n",
    "\n",
    "input_folder = './samples/'\n",
    "\n",
    "splitfolders.ratio(input_folder, output=\"split\", # name of output folder \n",
    "                   seed=42, ratio=(.1, .9), # seed for generating random seq and ratio for specifying train and test split %\n",
    "                   group_prefix=None) "
   ]
  },
  {
   "cell_type": "markdown",
   "id": "e6bc0f28",
   "metadata": {},
   "source": [
    "<b> End Result </b>\n",
    "\n",
    "        \\SPLIT\n",
    "        ├───train\n",
    "        │   ├───1\n",
    "        │   ├───2\n",
    "        │   ├───3\n",
    "        │   ├───4\n",
    "        │   ├───5\n",
    "        │   └───6\n",
    "        └───val\n",
    "            ├───1\n",
    "            ├───2\n",
    "            ├───3\n",
    "            ├───4\n",
    "            ├───5\n",
    "            └───6\n",
    "            \n",
    "Now we can load this for ML stuff :)"
   ]
  }
 ],
 "metadata": {
  "kernelspec": {
   "display_name": "Python 3 (ipykernel)",
   "language": "python",
   "name": "python3"
  },
  "language_info": {
   "codemirror_mode": {
    "name": "ipython",
    "version": 3
   },
   "file_extension": ".py",
   "mimetype": "text/x-python",
   "name": "python",
   "nbconvert_exporter": "python",
   "pygments_lexer": "ipython3",
   "version": "3.8.12"
  }
 },
 "nbformat": 4,
 "nbformat_minor": 5
}
